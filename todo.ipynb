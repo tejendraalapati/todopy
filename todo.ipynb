{
 "cells": [
  {
   "cell_type": "code",
   "execution_count": 1,
   "metadata": {},
   "outputs": [],
   "source": [
    "tasks=[]"
   ]
  },
  {
   "cell_type": "code",
   "execution_count": 3,
   "metadata": {},
   "outputs": [
    {
     "name": "stdout",
     "output_type": "stream",
     "text": [
      "---to-do-list----\n",
      "1. Add task\n",
      "2. Remove task\n",
      "3. Display tasks\n",
      "4. Exit\n",
      "the task isk is added sucessfully\n",
      "---to-do-list----\n",
      "1. Add task\n",
      "2. Remove task\n",
      "3. Display tasks\n",
      "4. Exit\n",
      "Exiting program...\n"
     ]
    }
   ],
   "source": [
    "def task_add(task):\n",
    "    tasks.append(task)\n",
    "    print(\"the task isk is added sucessfully\")\n",
    "\n",
    "def task_remove(task):\n",
    "    if task in tasks:\n",
    "        tasks.remove(task)\n",
    "        print(\"the task has been sucessfully removed\")\n",
    "    else:\n",
    "        print(\"the task has been not found\")\n",
    "\n",
    "def display_task():\n",
    "    if len(tasks)==0:\n",
    "        print(\"no task has been found\")\n",
    "    else:\n",
    "        print(\"Task:\")\n",
    "\n",
    "        for task in tasks:\n",
    "            print(\"-\",+ task)\n",
    "\n",
    "\n",
    "while True:\n",
    "    print(\"---to-do-list----\")\n",
    "    print(\"1. Add task\")\n",
    "    print(\"2. Remove task\")\n",
    "    print(\"3. Display tasks\")\n",
    "    print(\"4. Exit\")\n",
    "\n",
    "    Choice = input('enter the choice (1-4):')\n",
    "\n",
    "    if Choice == \"1\":\n",
    "        task = input(\"enter the task:\")\n",
    "        task_add(task)\n",
    "\n",
    "    elif Choice == \"2\":\n",
    "        task = input(\"Enter the task to remove: \")\n",
    "        task_remove(task)\n",
    "\n",
    "    elif Choice == \"3\":\n",
    "       display_task()\n",
    "    elif Choice == \"4\":\n",
    "        print(\"Exiting program...\")\n",
    "        break\n",
    "    else:\n",
    "        print(\"Invalid choice. Please try again.\")\n",
    "\n",
    "\n"
   ]
  }
 ],
 "metadata": {
  "kernelspec": {
   "display_name": "Python 3",
   "language": "python",
   "name": "python3"
  },
  "language_info": {
   "codemirror_mode": {
    "name": "ipython",
    "version": 3
   },
   "file_extension": ".py",
   "mimetype": "text/x-python",
   "name": "python",
   "nbconvert_exporter": "python",
   "pygments_lexer": "ipython3",
   "version": "3.11.0"
  },
  "orig_nbformat": 4
 },
 "nbformat": 4,
 "nbformat_minor": 2
}
